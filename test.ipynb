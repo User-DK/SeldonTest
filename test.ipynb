{
 "cells": [
  {
   "cell_type": "markdown",
   "metadata": {},
   "source": [
    "<img src=\"1.png\" width=300 height=300>"
   ]
  },
  {
   "cell_type": "markdown",
   "metadata": {},
   "source": [
    "### inputNetworks.txt\n",
    "<br># idx_agent, n_neighbours_in, indices_neighbours_in[...], weights_in[...]\n",
    "<br>0, 1 , 0, 1\n",
    "<br>1, 2, 0, 2, 0.5, 0.5\n",
    "<br>2, 1, 2, 1"
   ]
  },
  {
   "cell_type": "markdown",
   "metadata": {},
   "source": [
    "### configuration:\n",
    "<br>[simulation]\n",
    "<br>model = \"DeGroot\"\n",
    "\n",
    "<br>[io]\n",
    "<br>n_output_network = 3 \n",
    "<br>n_output_agents = 1 \n",
    "<br>print_progress = true \n",
    "\n",
    "\n",
    "<br>[DeGroot]\n",
    "<br>convergence = 1e-6\n",
    "\n",
    "<br>[network]\n",
    "<br>number_of_agents = 3\n",
    "<br>connections_per_agent = 2\n"
   ]
  },
  {
   "cell_type": "code",
   "execution_count": 3,
   "metadata": {},
   "outputs": [
    {
     "data": {
      "text/markdown": [
       "```\n",
       "'micromamba' is running as a subprocess and can't modify the parent shell.\n",
       "Thus you must initialize your shell before using activate and deactivate.\n",
       "\n",
       "To initialize the current bash shell, run:\n",
       "    $ eval \"$(micromamba shell hook --shell bash)\"\n",
       "and then activate or deactivate with:\n",
       "    $ micromamba activate\n",
       "To automatically initialize all future (bash) shells, run:\n",
       "    $ micromamba shell init --shell bash --root-prefix=~/micromamba\n",
       "If your shell was already initialized, reinitialize your shell with:\n",
       "    $ micromamba shell reinit --shell bash\n",
       "Otherwise, this may be an issue. In the meantime you can run commands. See:\n",
       "    $ micromamba run --help\n",
       "\n",
       "Supported shells are {bash, zsh, csh, xonsh, cmd.exe, powershell, fish}.\n",
       "=================================================================\n",
       "Using input file: /home/parrot_user/Desktop/seldonUsage/seldon/trial/config/conf.toml\n",
       "Output directory path set to: /home/parrot_user/Desktop/seldonUsage/seldon/trial/output\n",
       "INFO: Seeding with seed 2009163026\n",
       "Model type: DeGroot\n",
       "Network has 3 agents\n",
       "Reading netwok from file /home/parrot_user/Desktop/seldonUsage/seldon/trial/input/inputNetworks.txt\n",
       "WARNING: You have 3 strongly connected components in your network!\n",
       "Finished model setup\n",
       "-----------------------------------------------------------------\n",
       "Starting simulation\n",
       "-----------------------------------------------------------------\n",
       "-----------------------------------------------------------------\n",
       "Finished after 0 iterations, total time = 00h 00m 00.000s\n",
       "=================================================================\n",
       "```"
      ],
      "text/plain": [
       "<IPython.core.display.Markdown object>"
      ]
     },
     "metadata": {},
     "output_type": "display_data"
    }
   ],
   "source": [
    "import subprocess\n",
    "from IPython.display import display, Markdown\n",
    "\n",
    "try:\n",
    "    result = subprocess.run(['bash', 'script.sh'], capture_output=True, text=True, check=True)\n",
    "    output = result.stdout\n",
    "    display(Markdown(f'```{output}```'))\n",
    "except subprocess.CalledProcessError as e:\n",
    "    print(\"Error: \", e)"
   ]
  },
  {
   "cell_type": "markdown",
   "metadata": {},
   "source": [
    "Output opinions_0.txt\n",
    "<br># idx_agent, opinion[...]\n",
    "<br>0,        0.0000000000000000\n",
    "<br>1,        0.3333333333333333\n",
    "<br>2,        0.6666666666666666\n"
   ]
  }
 ],
 "metadata": {
  "kernelspec": {
   "display_name": "Python 3",
   "language": "python",
   "name": "python3"
  },
  "language_info": {
   "codemirror_mode": {
    "name": "ipython",
    "version": 3
   },
   "file_extension": ".py",
   "mimetype": "text/x-python",
   "name": "python",
   "nbconvert_exporter": "python",
   "pygments_lexer": "ipython3",
   "version": "3.11.2"
  }
 },
 "nbformat": 4,
 "nbformat_minor": 2
}
